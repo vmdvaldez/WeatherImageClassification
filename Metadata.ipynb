{
 "cells": [
  {
   "cell_type": "code",
   "execution_count": null,
   "metadata": {},
   "outputs": [],
   "source": [
    "# !wget https://www.cs.ccu.edu.tw/~wtchu/projects/Weather/Image.zip\n",
    "# !unzip Image.zip\n",
    "# !mv Image weather_dataset"
   ]
  },
  {
   "cell_type": "markdown",
   "metadata": {},
   "source": [
    "# Uncomment to run on Colab "
   ]
  },
  {
   "cell_type": "code",
   "execution_count": null,
   "metadata": {},
   "outputs": [],
   "source": [
    "#from google.colab import drive\n",
    "#drive.mount('/content/gdrive')"
   ]
  },
  {
   "cell_type": "code",
   "execution_count": null,
   "metadata": {},
   "outputs": [],
   "source": [
    "# !pip install pyunpack\n",
    "# !pip install patool\n",
    "# from pyunpack import Archive\n",
    "\n",
    "# Archive('/content/gdrive/My Drive/Colab Notebooks/Project/Image.rar').extractall('./')"
   ]
  },
  {
   "cell_type": "markdown",
   "metadata": {},
   "source": [
    "# Split Dataset to Train, Val, Test"
   ]
  },
  {
   "cell_type": "code",
   "execution_count": null,
   "metadata": {},
   "outputs": [],
   "source": [
    "!pip install split-folders"
   ]
  },
  {
   "cell_type": "code",
   "execution_count": null,
   "metadata": {},
   "outputs": [],
   "source": [
    "# import split_folders"
   ]
  },
  {
   "cell_type": "code",
   "execution_count": null,
   "metadata": {},
   "outputs": [],
   "source": [
    "# split_folders.ratio(\"Image\", output=\"weather_dataset\", seed=1337, ratio=(0.7,0.15,0.15))"
   ]
  },
  {
   "cell_type": "code",
   "execution_count": null,
   "metadata": {},
   "outputs": [],
   "source": [
    "# Uncomment to run on colab, Change paths.\n",
    "\n",
    "# !cp gdrive/My\\ Drive/Colab\\ Notebooks/Project/*.sh  .\n",
    "# !cp gdrive/My\\ Drive/Colab\\ Notebooks/Project/*.py  .\n",
    "# !chmod +x augment_images.sh\n",
    "# !./augment_images.sh \"./weather_dataset/train/\""
   ]
  },
  {
   "cell_type": "code",
   "execution_count": null,
   "metadata": {},
   "outputs": [],
   "source": [
    "import numpy as np\n",
    "import time\n",
    "import torch\n",
    "import torch.nn as nn\n",
    "import torch.nn.functional as F\n",
    "import torch.optim as optim\n",
    "import torchvision\n",
    "from torch.utils.data.sampler import SubsetRandomSampler\n",
    "from torch.utils.data import random_split as rsplit\n",
    "import torchvision.transforms as transforms\n",
    "from torchvision.datasets import ImageFolder\n",
    "import matplotlib.pyplot as plt\n",
    "import os\n",
    "import torchvision.models\n",
    "import meta_parser\n",
    "\n",
    "torch.manual_seed(1) \n",
    "np.random.seed(1)"
   ]
  },
  {
   "cell_type": "code",
   "execution_count": null,
   "metadata": {},
   "outputs": [],
   "source": [
    "def convert_to_dataset(mdata):\n",
    "    dataset = []\n",
    "    classes = [\"cloudy\", \"foggy\", \"rain\", \"snow\", \"sunny\"]\n",
    "    \n",
    "    class_count = [0] * len(classes)\n",
    "    \n",
    "    for ids, weather_feats in mdata.items():\n",
    "#         print(weather_feats[0])\n",
    "#         if class_count[classes.index(weather_feats[1])] >= 25:\n",
    "#             continue\n",
    "        feats = np.asarray([float(wfeat) for wfeat in weather_feats[0].values()], dtype=np.float32)\n",
    "        label = np.asarray(float(classes.index(weather_feats[1])), dtype=np.int32)\n",
    "    #     print(type(feats),feats)\n",
    "    #     print(type(label), label)\n",
    "        dataset.append([feats, label])\n",
    "        class_count[classes.index(weather_feats[1])] += 1\n",
    "\n",
    "#         print(dataset)\n",
    "\n",
    "#     print(type(dataset))\n",
    "\n",
    "    print(max(class_count))\n",
    "\n",
    "    #BALANCE DATASET\n",
    "    new_dataset = []\n",
    "    for clss in range(len(classes)):\n",
    "        wdset = []\n",
    "        split_dset = []\n",
    "        wdset = [i[1] == clss for i in dataset]\n",
    "        split_dset += [dataset[i] for i, x in enumerate(wdset) if x]\n",
    "        if len(split_dset) < max(class_count):\n",
    "            count = 0\n",
    "            i = 0\n",
    "            while len(split_dset) < max(class_count):\n",
    "                if i >= len(split_dset):\n",
    "                    i = 0\n",
    "#                 print(split_dset, split_dset[i])\n",
    "                split_dset.append(split_dset[i])\n",
    "                if len(split_dset) >= max(class_count):\n",
    "                    break\n",
    "                i+=1\n",
    "        new_dataset += split_dset\n",
    "#         print(len(split_dset))\n",
    "        \n",
    "        \n",
    "    \n",
    "#     return dataset\n",
    "    return new_dataset\n",
    "    "
   ]
  },
  {
   "cell_type": "code",
   "execution_count": null,
   "metadata": {},
   "outputs": [],
   "source": [
    "def get_data_loader(batch_size=8, sets=[\"train\", \"val\"]):\n",
    "    \n",
    "    data_loader = []\n",
    "    data = []\n",
    "    for s in sets:\n",
    "        print(\"Getting Data for \", s)\n",
    "        mdata = m.get_available_metadata(s)\n",
    "        data = convert_to_dataset(mdata)\n",
    "        data_loader.append(torch.utils.data.DataLoader(data, shuffle=True, batch_size=batch_size))\n",
    "    return data_loader"
   ]
  },
  {
   "cell_type": "code",
   "execution_count": null,
   "metadata": {},
   "outputs": [],
   "source": [
    "def get_accuracy(model, data_loader, conf_matrix=False):\n",
    "    # calculate total correct predictions within the specified data_set\n",
    "\n",
    "    classes = ['cloudy', 'foggy', 'rain', 'snow', 'sunny']\n",
    "    \n",
    "    x = np.zeros(shape=(len(classes), len(classes)))\n",
    "\n",
    "    l = 0\n",
    "    correct, total = 0 , 0\n",
    "    for feats, labels in data_loader:\n",
    "        feats = feats.cuda()\n",
    "        labels = labels.cuda()\n",
    "        \n",
    "        outputs = model(feats)\n",
    "        \n",
    "        pred = outputs.max(1, keepdim=True)[1]\n",
    "        \n",
    "        if conf_matrix:\n",
    "            i = labels.view_as(pred).item()\n",
    "            j = pred.item()\n",
    "            x[i][j] += 1\n",
    "            \n",
    "        correct += pred.eq(labels.view_as(pred)).sum().item()\n",
    "        total += feats.shape[0]\n",
    "        \n",
    "        l+=1\n",
    "    if conf_matrix:\n",
    "        return (correct / total), x\n",
    "    else:\n",
    "        return (correct / total)"
   ]
  },
  {
   "cell_type": "code",
   "execution_count": null,
   "metadata": {},
   "outputs": [],
   "source": [
    "def train_net(net, batch_size=8, lr=0.01, num_epochs=20, data_set=[\"train\", \"val\"], weight_decay=0):\n",
    "    \n",
    "    model_path=\"\"\n",
    "    \n",
    "    model_path = \"{}_BS_{}_LR_{}_dataset_{}_numepochs_{}/\".format(net.name,batch_size, lr, \"{}\".format(data_set[0]),num_epochs)\n",
    "    \n",
    "    os.mkdir(model_path)\n",
    "    \n",
    "    \n",
    "    with open('./{}network_params.txt'.format(model_path),'w') as file:    \n",
    "        print(net.parameters, file=file)\n",
    "    \n",
    "    \n",
    "    data_loader = get_data_loader(batch_size=batch_size, sets=data_set)\n",
    "    train_loader, val_loader = data_loader\n",
    "    \n",
    "    criterion = nn.CrossEntropyLoss()\n",
    "    optimizer = optim.SGD(net.parameters(), lr=lr, momentum=0.9, weight_decay=weight_decay)\n",
    "    \n",
    "    train_acc, train_loss = [], []\n",
    "    val_acc, val_loss = [], []\n",
    "    iters = []\n",
    "    \n",
    "    for epoch in range(num_epochs):\n",
    "        print(\"Epoch: \", epoch)\n",
    "        \n",
    "        batch_total =0.0\n",
    "        \n",
    "        # go through data loaded in batches of batch_size\n",
    "        # i.e. # of data loaded / batch_size should be number of iterations\n",
    "        \n",
    "        j = 0\n",
    "        total_loss = 0\n",
    "        for i, data in enumerate(train_loader, 0):              \n",
    "            features, labels = data\n",
    "\n",
    "    \n",
    "            features = features.cuda()\n",
    "            labels = labels.cuda()\n",
    "    \n",
    "#             print(features.shape[0])\n",
    "#             print(labels.shape[0])\n",
    "            \n",
    "            outputs = net(features)\n",
    "            loss = criterion(outputs, labels.long())\n",
    "            loss.backward()\n",
    "            total_loss+=float(loss)\n",
    "            j+= features.shape[0]\n",
    "            optimizer.step()\n",
    "            optimizer.zero_grad()\n",
    "\n",
    "            pred = outputs.max(1, keepdim=True)[1]\n",
    "            \n",
    "            mini_batch_correct = pred.eq(labels.view_as(pred)).sum().item()\n",
    "            mini_batch_total = features.shape[0]\n",
    "#             break\n",
    "\n",
    "\n",
    "            print(\"Epoch {}, Mini Batch Accuracy {:.2f}%, Loss {:.2f}%\".format(epoch ,mini_batch_correct/mini_batch_total * 100 , total_loss/j * 100))\n",
    "            \n",
    "        iters.append(epoch)\n",
    "        train_acc.append(get_accuracy(net, train_loader))\n",
    "        val_acc.append(get_accuracy(net, val_loader))\n",
    "        train_loss.append(total_loss/j)\n",
    "        \n",
    "        print(\"\\nEpoch {} Summary: Train Accuracy {:.2f}%, Validation Accuracy {:.2f}%, Loss {:.2f}%\\n\".format(epoch,\n",
    "                                                                                                          train_acc[-1] * 100,\n",
    "                                                                                                          val_acc[-1] * 100,\n",
    "                                                                                                          total_loss/j * 100))\n",
    "        \n",
    "        torch.save(net.state_dict(), model_path + \"epoch_{}\".format(str(epoch)))           \n",
    "\n",
    "\n",
    "\n",
    "    \n",
    "    np.savetxt(\"{}train_acc.csv\".format(model_path), train_acc)\n",
    "    np.savetxt(\"{}train_loss.csv\".format(model_path), train_loss)\n",
    "    np.savetxt(\"{}val_acc.csv\".format(model_path), val_acc)\n",
    "    np.savetxt(\"{}iters.csv\".format(model_path), iters)\n",
    "    \n",
    "    return iters, train_loss, val_acc, train_acc"
   ]
  },
  {
   "cell_type": "code",
   "execution_count": null,
   "metadata": {},
   "outputs": [],
   "source": [
    "def plot_graphs(iters, train_loss, train_acc, val_acc):\n",
    "    plt.title(\"Training Curve\")\n",
    "    plt.plot(iters, train_loss, label=\"Train\")\n",
    "    plt.xlabel(\"Epochs\")\n",
    "    plt.ylabel(\"Loss\")\n",
    "    plt.show()\n",
    "\n",
    "    plt.title(\"Training Curve\")\n",
    "    plt.plot(iters, train_acc, label=\"Training\")\n",
    "    plt.plot(iters, val_acc, label=\"Validation\")    \n",
    "    plt.xlabel(\"Epochs\")\n",
    "    plt.ylabel(\"Validation Accuracy\")\n",
    "    plt.legend(loc='best')\n",
    "    plt.show()\n",
    "\n",
    "    print(\"Final Training Accuracy: {}\".format(train_acc[-1]))\n",
    "    print(\"Final Validation Accuracy: {}\".format(val_acc[-1]))"
   ]
  },
  {
   "cell_type": "code",
   "execution_count": null,
   "metadata": {},
   "outputs": [],
   "source": [
    "def print_conf_matrix(conf_matrix):\n",
    "    print(\"\\n\\n\")\n",
    "\n",
    "    classes = ['cloudy', 'foggy', 'rain', 'snow', 'sunny']\n",
    "\n",
    "    for i in range(len(classes)):\n",
    "        if i == 0:\n",
    "            print('', end='\\t')\n",
    "\n",
    "        print(classes[i], end = '\\t')\n",
    "\n",
    "    print(\"\\tTotal Samples\")\n",
    "    print('\\n')\n",
    "\n",
    "    for i in range(len(classes)):\n",
    "\n",
    "        print(classes[i], end ='\\t')\n",
    "        for j in range(len(classes)):\n",
    "            print(conf_matrix[i][j], end='\\t')\n",
    "        print(\"\\t\", sum(conf_matrix[i, :]))\n",
    "        print('\\n')\n",
    "    \n",
    "    for i in range(len(classes)):\n",
    "        if i == 0:\n",
    "            print(\"Guesses\", end=\"\\t\")\n",
    "        \n",
    "        print(sum(conf_matrix[:,i]),  end ='\\t')\n",
    "        \n",
    "    print(\"\\n\\n\")\n",
    "    \n",
    "    for i in range(len(classes)):\n",
    "        print(\"{} : {:.2f}%\".format(classes[i],conf_matrix[i][i]/sum(conf_matrix[i, :]) * 100))\n",
    "    \n",
    "    "
   ]
  },
  {
   "cell_type": "code",
   "execution_count": null,
   "metadata": {},
   "outputs": [],
   "source": [
    "# class ANN(nn.Module):\n",
    "#     def __init__(self):\n",
    "#         super(ANN, self).__init__()\n",
    "#         self.name=\"ANN\"\n",
    "#         self.fc1 = nn.Linear(4, 100)\n",
    "#         self.fc2 = nn.Linear(100, 80)\n",
    "#         self.fc3 = nn.Linear(80, 60)\n",
    "#         self.fc4 = nn.Linear(60, 40)\n",
    "#         self.fc5 = nn.Linear(40, 20)\n",
    "#         self.final = nn.Linear(20, 5)\n",
    "\n",
    "\n",
    "#     def forward(self, x):\n",
    "#         x = F.relu(self.fc1(x))\n",
    "#         x = F.relu(self.fc2(x))\n",
    "#         x = F.relu(self.fc3(x))\n",
    "#         x = F.relu(self.fc4(x))\n",
    "#         x = F.relu(self.fc5(x))\n",
    "#         x = self.final(x)\n",
    "#         return x\n",
    "\n",
    "# class ANN(nn.Module):\n",
    "#     def __init__(self):\n",
    "#         super(ANN, self).__init__()\n",
    "#         self.name=\"ANN\"\n",
    "#         self.fc1 = nn.Linear(5, 256)\n",
    "#         self.fc2 = nn.Linear(256, 128)\n",
    "#         self.fc3 = nn.Linear(128, 64)\n",
    "#         self.final = nn.Linear(64, 5)\n",
    "\n",
    "\n",
    "#     def forward(self, x):\n",
    "#         x = F.relu(self.fc1(x))\n",
    "#         x = F.relu(self.fc2(x))\n",
    "#         x = F.relu(self.fc3(x))\n",
    "#         x = self.final(x)\n",
    "#         return x\n",
    "\n",
    "class ANN(nn.Module):\n",
    "    def __init__(self):\n",
    "        super(ANN, self).__init__()\n",
    "        self.name=\"ANN\"\n",
    "        self.encoder = nn.Sequential(\n",
    "            nn.Linear(5, 256),\n",
    "            nn.ReLU(),\n",
    "            nn.Linear(256, 128),\n",
    "            nn.ReLU(),\n",
    "            nn.Linear(128, 64),\n",
    "            nn.ReLU(),\n",
    "            nn.Linear(64, 5)\n",
    "        )\n",
    "\n",
    "\n",
    "\n",
    "    def forward(self, x):\n",
    "        x = self.encoder(x)\n",
    "        return x\n",
    "\n",
    "\n"
   ]
  },
  {
   "cell_type": "code",
   "execution_count": null,
   "metadata": {},
   "outputs": [],
   "source": [
    "m = meta_parser.metadata_map()"
   ]
  },
  {
   "cell_type": "code",
   "execution_count": null,
   "metadata": {
    "scrolled": true
   },
   "outputs": [],
   "source": [
    "net = ANN().cuda()\n",
    "iters, train_loss, val_acc, train_acc = train_net(net, num_epochs=200, lr=1e-2, batch_size=128, data_set=[\"train\",\"val\"])"
   ]
  },
  {
   "cell_type": "code",
   "execution_count": null,
   "metadata": {
    "scrolled": false
   },
   "outputs": [],
   "source": [
    "plot_graphs(iters, train_loss, train_acc, val_acc)"
   ]
  },
  {
   "cell_type": "code",
   "execution_count": null,
   "metadata": {},
   "outputs": [],
   "source": [
    "data_loader = get_data_loader(batch_size=1, sets=[\"train\"])\n",
    "x, y = get_accuracy(net, data_loader[0], conf_matrix=True)\n",
    "# x = get_accuracy(net, data_loader[0], conf_matrix=False)"
   ]
  },
  {
   "cell_type": "code",
   "execution_count": null,
   "metadata": {},
   "outputs": [],
   "source": [
    "print(x)\n",
    "print_conf_matrix(y)"
   ]
  },
  {
   "cell_type": "code",
   "execution_count": null,
   "metadata": {},
   "outputs": [],
   "source": [
    "data_loader = get_data_loader(batch_size=1, sets=[\"val\"])\n",
    "x, y = get_accuracy(net, data_loader[0], conf_matrix=True)\n",
    "# x = get_accuracy(net, data_loader[0], conf_matrix=False)"
   ]
  },
  {
   "cell_type": "code",
   "execution_count": null,
   "metadata": {
    "scrolled": false
   },
   "outputs": [],
   "source": [
    "print(x)\n",
    "print_conf_matrix(y)"
   ]
  },
  {
   "cell_type": "code",
   "execution_count": null,
   "metadata": {},
   "outputs": [],
   "source": []
  }
 ],
 "metadata": {
  "kernelspec": {
   "display_name": "Python 3",
   "language": "python",
   "name": "python3"
  },
  "language_info": {
   "codemirror_mode": {
    "name": "ipython",
    "version": 3
   },
   "file_extension": ".py",
   "mimetype": "text/x-python",
   "name": "python",
   "nbconvert_exporter": "python",
   "pygments_lexer": "ipython3",
   "version": "3.6.10"
  }
 },
 "nbformat": 4,
 "nbformat_minor": 4
}
