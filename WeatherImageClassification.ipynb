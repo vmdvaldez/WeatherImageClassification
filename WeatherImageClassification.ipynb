{
 "cells": [
  {
   "cell_type": "code",
   "execution_count": null,
   "metadata": {},
   "outputs": [],
   "source": [
    "# !wget https://www.cs.ccu.edu.tw/~wtchu/projects/Weather/Image.zip\n",
    "# !unzip Image.zip\n",
    "# !mv Image weather_dataset"
   ]
  },
  {
   "cell_type": "markdown",
   "metadata": {},
   "source": [
    "# Uncomment to run on Colab "
   ]
  },
  {
   "cell_type": "code",
   "execution_count": null,
   "metadata": {},
   "outputs": [],
   "source": [
    "#from google.colab import drive\n",
    "#drive.mount('/content/gdrive')"
   ]
  },
  {
   "cell_type": "code",
   "execution_count": null,
   "metadata": {},
   "outputs": [],
   "source": [
    "# !pip install pyunpack\n",
    "# !pip install patool\n",
    "# from pyunpack import Archive\n",
    "\n",
    "# Archive('/content/gdrive/My Drive/Colab Notebooks/Project/Image.rar').extractall('./')"
   ]
  },
  {
   "cell_type": "markdown",
   "metadata": {},
   "source": [
    "# Split Dataset to Train, Val, Test"
   ]
  },
  {
   "cell_type": "code",
   "execution_count": null,
   "metadata": {},
   "outputs": [],
   "source": [
    "!pip install split-folders"
   ]
  },
  {
   "cell_type": "code",
   "execution_count": null,
   "metadata": {},
   "outputs": [],
   "source": [
    "import split_folders"
   ]
  },
  {
   "cell_type": "code",
   "execution_count": null,
   "metadata": {},
   "outputs": [],
   "source": [
    "split_folders.ratio(\"Image\", output=\"weather_dataset\", seed=1337, ratio=(0.7,0.15,0.15))"
   ]
  },
  {
   "cell_type": "code",
   "execution_count": null,
   "metadata": {},
   "outputs": [],
   "source": [
    "# Uncomment to run on colab, Change paths.\n",
    "\n",
    "# !cp gdrive/My\\ Drive/Colab\\ Notebooks/Project/*.sh  .\n",
    "# !cp gdrive/My\\ Drive/Colab\\ Notebooks/Project/*.py  .\n",
    "# !chmod +x augment_images.sh\n",
    "# !./augment_images.sh \"./weather_dataset/train/\""
   ]
  },
  {
   "cell_type": "code",
   "execution_count": null,
   "metadata": {},
   "outputs": [],
   "source": [
    "import numpy as np\n",
    "import time\n",
    "import torch\n",
    "import torch.nn as nn\n",
    "import torch.nn.functional as F\n",
    "import torch.optim as optim\n",
    "import torchvision\n",
    "from torch.utils.data.sampler import SubsetRandomSampler\n",
    "from torch.utils.data import random_split as rsplit\n",
    "import torchvision.transforms as transforms\n",
    "from torchvision.datasets import ImageFolder\n",
    "import matplotlib.pyplot as plt\n",
    "import os\n",
    "import torchvision.models\n",
    "\n",
    "torch.manual_seed(1)"
   ]
  },
  {
   "cell_type": "code",
   "execution_count": null,
   "metadata": {},
   "outputs": [],
   "source": [
    "def get_data_loader(batch_size=8, sets=[\"train\", \"val\", \"test\"], tlearning=\"\"):\n",
    "    data_loader = []\n",
    "    \n",
    "    data_transform = transforms.Compose( [transforms.CenterCrop(224), transforms.Resize((224,224)) , transforms.ToTensor()])\n",
    "    \n",
    "    # Load dataset based on the passed in folder name & whether it is transfer learning or not.\n",
    "    for s in sets:\n",
    "        if tlearning == \"anet\":\n",
    "            print(\"\\n #### Loading AlexNet Features ####\\n\")\n",
    "            data_set  = torchvision.datasets.DatasetFolder(\"weather_dataset/{}\".format(\"anet_{}\".format(s)),  \n",
    "                                                           loader=torch.load, extensions=('.tensor'))\n",
    "        elif tlearning ==\"vgg16\":\n",
    "            print(\"\\n #### Loading VGG16 Features ####\\n\")\n",
    "            data_set  = torchvision.datasets.DatasetFolder(\"weather_dataset/{}\".format(\"vgg16_{}\".format(s)), \n",
    "                                                          loader=torch.load, extensions=('.tensor'))\n",
    "        else:\n",
    "            data_set = ImageFolder(\"weather_dataset/{}\".format(s),\n",
    "                               transform=data_transform)\n",
    "        \n",
    "        print(\"Complete Dataset:\\n \", data_set)\n",
    "        data_loader.append(torch.utils.data.DataLoader(data_set, batch_size=batch_size, shuffle=True))\n",
    "    \n",
    "    return data_loader"
   ]
  },
  {
   "cell_type": "code",
   "execution_count": null,
   "metadata": {},
   "outputs": [],
   "source": [
    "def get_model_path(name, bs, lr, data_set, total_epoch, epoch, csv=False, tlearning=\"\"):\n",
    "    if csv:\n",
    "        model_path = \"{}_BS_{}_LR_{}_dataset_{}_numepochs_{}/\".format(name, bs, lr, data_set, total_epoch)\n",
    "        if tlearning == \"anet\":\n",
    "            model_path = \"{}_BS_{}_LR_{}_dataset_{}_numepochs_{}/\".format(name,bs, lr, \"anet_{}\".format(data_set),total_epoch)\n",
    "        elif tlearning == \"vgg16\":\n",
    "            model_path = \"{}_BS_{}_LR_{}_dataset_{}_numepochs_{}/\".format(name,bs, lr, \"vgg16_{}\".format(data_set),total_epoch)\n",
    "    else:\n",
    "        model_path = \"{}_BS_{}_LR_{}_dataset_{}_numepochs_{}/epoch_{}\".format(name, bs, lr, data_set, total_epoch,epoch)\n",
    "        if tlearning == \"anet\":\n",
    "            model_path = \"{}_BS_{}_LR_{}_dataset_{}_numepochs_{}/epoch_{}\".format(name,bs, lr, \"anet_{}\".format(data_set),epoch)\n",
    "        elif tlearning == \"vgg16\":\n",
    "            model_path = \"{}_BS_{}_LR_{}_dataset_{}_numepochs_{}/epoch_{}\".format(name,bs, lr, \"vgg16_{}\".format(data_set),total_epoch)    \n",
    "    return model_path"
   ]
  },
  {
   "cell_type": "code",
   "execution_count": null,
   "metadata": {},
   "outputs": [],
   "source": [
    "def get_accuracy(model, data_loader, conf_matrix=False):\n",
    "    # calculate total correct predictions within the specified data_set\n",
    "\n",
    "#     classes = ['cloudy', 'foggy', 'rain', 'snow', 'sunny', 'z-other']\n",
    "    classes = ['cloudy', 'foggy', 'rain', 'snow', 'sunny']\n",
    "    \n",
    "    x = np.zeros(shape=(len(classes), len(classes)))\n",
    "#     print(x.shape)\n",
    "\n",
    "    l = 0\n",
    "    correct, total = 0 , 0\n",
    "    for images, labels in data_loader:\n",
    "        images = images.cuda()\n",
    "        labels = labels.cuda()\n",
    "        \n",
    "        outputs = model(images)\n",
    "        \n",
    "        pred = outputs.max(1, keepdim=True)[1]\n",
    "        \n",
    "        if conf_matrix:\n",
    "            i = labels.view_as(pred).item()\n",
    "            j = pred.item()\n",
    "            x[i][j] += 1\n",
    "            \n",
    "        correct += pred.eq(labels.view_as(pred)).sum().item()\n",
    "        total += images.shape[0]\n",
    "        \n",
    "        l+=1\n",
    "    if conf_matrix:\n",
    "        return (correct / total), x\n",
    "    else:\n",
    "        return (correct / total)"
   ]
  },
  {
   "cell_type": "code",
   "execution_count": null,
   "metadata": {},
   "outputs": [],
   "source": [
    "def train_net(net, batch_size=8, lr=0.01, num_epochs=20, data_set=[\"train\", \"val\"], weight_decay=0, tlearning=\"\"):\n",
    "    \n",
    "    model_path=\"\"\n",
    "    \n",
    "    if tlearning == \"anet\":\n",
    "        model_path = \"{}_BS_{}_LR_{}_dataset_{}_numepochs_{}/\".format(net.name,batch_size, lr, \"anet_{}\".format(data_set[0]),num_epochs)\n",
    "    elif tlearning == \"vgg16\":\n",
    "        model_path = \"{}_BS_{}_LR_{}_dataset_{}_numepochs_{}/\".format(net.name,batch_size, lr, \"vgg16_{}\".format(data_set[0]),num_epochs)\n",
    "    else:\n",
    "        model_path = \"{}_BS_{}_LR_{}_dataset_{}_numepochs_{}/\".format(net.name,batch_size, lr, data_set[0],num_epochs)\n",
    "\n",
    "    \n",
    "    os.mkdir(model_path)\n",
    "    \n",
    "    \n",
    "    with open('./{}network_params.txt'.format(model_path),'w') as file:    \n",
    "        print(net.parameters, file=file)\n",
    "    \n",
    "    \n",
    "    data_loader = get_data_loader(batch_size=batch_size, sets=data_set, tlearning=tlearning)\n",
    "    train_loader, val_loader = data_loader\n",
    "    \n",
    "    criterion = nn.CrossEntropyLoss()\n",
    "    optimizer = optim.SGD(net.parameters(), lr=lr, momentum=0.9, weight_decay=weight_decay)\n",
    "    \n",
    "    train_acc, train_loss = [], []\n",
    "    val_acc, val_loss = [], []\n",
    "    iters = []\n",
    "    \n",
    "    for epoch in range(num_epochs):\n",
    "        print(\"Epoch: \", epoch)\n",
    "        \n",
    "        batch_total =0.0\n",
    "        \n",
    "        # go through data loaded in batches of batch_size\n",
    "        # i.e. # of data loaded / batch_size should be number of iterations\n",
    "        \n",
    "        j = 0\n",
    "        total_loss = 0\n",
    "        for i, data in enumerate(train_loader, 0):              \n",
    "            images, labels = data\n",
    "\n",
    "#             print(labels)\n",
    "    \n",
    "            images = images.cuda()\n",
    "            labels = labels.cuda()\n",
    "\n",
    "            outputs = net(images)\n",
    "#             print(outputs.shape)\n",
    "            loss = criterion(outputs, labels)\n",
    "            loss.backward()\n",
    "            total_loss+=float(loss)\n",
    "            j+=images.shape[0]\n",
    "            optimizer.step()\n",
    "            optimizer.zero_grad()\n",
    "\n",
    "            pred = outputs.max(1, keepdim=True)[1]\n",
    "            \n",
    "#             print(pred)\n",
    "            mini_batch_correct = pred.eq(labels.view_as(pred)).sum().item()\n",
    "            mini_batch_total = images.shape[0]\n",
    "#             train_acc.append(mini_batch_correct / mini_batch_total)\n",
    "\n",
    "            print(\"Epoch {}, Mini Batch Accuracy {:.2f}%, Loss {:.2f}%\".format(epoch ,mini_batch_correct/mini_batch_total * 100 , total_loss/j * 100))\n",
    "            \n",
    "#             n+=1\n",
    "        \n",
    "        iters.append(epoch)\n",
    "        train_acc.append(get_accuracy(net, train_loader))\n",
    "        val_acc.append(get_accuracy(net, val_loader))\n",
    "        train_loss.append(total_loss/j)\n",
    "        \n",
    "        print(\"\\nEpoch {} Summary: Train Accuracy {:.2f}%, Validation Accuracy {:.2f}%, Loss {:.2f}%\\n\".format(epoch,\n",
    "                                                                                                          train_acc[-1] * 100,\n",
    "                                                                                                          val_acc[-1] * 100,\n",
    "                                                                                                          total_loss/j * 100))\n",
    "        \n",
    "        torch.save(net.state_dict(), model_path + \"epoch_{}\".format(str(epoch)))           \n",
    "\n",
    "\n",
    "\n",
    "    \n",
    "    np.savetxt(\"{}train_acc.csv\".format(model_path), train_acc)\n",
    "    np.savetxt(\"{}train_loss.csv\".format(model_path), train_loss)\n",
    "    np.savetxt(\"{}val_acc.csv\".format(model_path), val_acc)\n",
    "    np.savetxt(\"{}iters.csv\".format(model_path), iters)\n",
    "    \n",
    "    return iters, train_loss, val_acc, train_acc\n"
   ]
  },
  {
   "cell_type": "markdown",
   "metadata": {},
   "source": [
    "# Network Definitions"
   ]
  },
  {
   "cell_type": "code",
   "execution_count": null,
   "metadata": {},
   "outputs": [],
   "source": [
    "class CNN(nn.Module):\n",
    "    def __init__(self):\n",
    "        super(CNN, self).__init__()\n",
    "        self.name=\"CNN\"\n",
    "        self.conv1 = nn.Conv2d(3, 5, 5)\n",
    "        self.pool = nn.MaxPool2d(2, 2)\n",
    "        self.conv2 = nn.Conv2d(5, 10, 5)\n",
    "        self.fc1 = nn.Linear(10 * 53 * 53, 128)\n",
    "        self.fc2 = nn.Linear(128, 5)\n",
    "\n",
    "    def forward(self, x):\n",
    "        x = self.pool(F.relu(self.conv1(x)))\n",
    "        x = self.pool(F.relu(self.conv2(x)))\n",
    "        x = x.view(-1, 10 * 53 * 53)\n",
    "        x = F.relu(self.fc1(x))\n",
    "        x = self.fc2(x)\n",
    "        return x\n",
    "    \n",
    "class anet_CNN(nn.Module):\n",
    "    def __init__(self):\n",
    "        super(anet_CNN, self).__init__()\n",
    "        self.name=\"anetCNN\"\n",
    "        self.conv1 = nn.Conv2d(256, 5, 3)\n",
    "        self.pool = nn.MaxPool2d(2, 2)\n",
    "        self.fc1 = nn.Linear(5*2*2, 64)\n",
    "        self.fc2 = nn.Linear(64, 5)\n",
    "\n",
    "    def forward(self, img):\n",
    "        x = self.pool(F.relu(self.conv1(img)))\n",
    "        x = x.view(-1, 5*2*2)\n",
    "        x = F.relu(self.fc1(x))\n",
    "        x = self.fc2(x)\n",
    "        return x\n",
    "    \n",
    "class vgg16_CNN(nn.Module):\n",
    "    def __init__(self):\n",
    "        self.name=\"vgg16CNN\"\n",
    "        super(vgg16_CNN, self).__init__()\n",
    "        self.conv1 = nn.Conv2d(512, 400, 3)\n",
    "        self.pool = nn.MaxPool2d(2, 2)\n",
    "        self.fc1 = nn.Linear(400*2*2, 64)\n",
    "        self.fc2 = nn.Linear(64, 5)\n",
    "        \n",
    "    def forward(self, img):\n",
    "        x = self.pool(F.relu(self.conv1(img)))\n",
    "        x = x.view(-1, 400*2*2)\n",
    "        x = F.relu(self.fc1(x))\n",
    "        x = self.fc2(x)\n",
    "        return x"
   ]
  },
  {
   "cell_type": "code",
   "execution_count": null,
   "metadata": {},
   "outputs": [],
   "source": [
    "def plot_graphs(iters, train_loss, train_acc, val_acc):\n",
    "    plt.title(\"Training Curve\")\n",
    "    plt.plot(iters, train_loss, label=\"Train\")\n",
    "    plt.xlabel(\"Epochs\")\n",
    "    plt.ylabel(\"Loss\")\n",
    "    plt.show()\n",
    "\n",
    "    plt.title(\"Training Curve\")\n",
    "    plt.plot(iters, train_acc, label=\"Training\")\n",
    "    plt.plot(iters, val_acc, label=\"Validation\")    \n",
    "    plt.xlabel(\"Epochs\")\n",
    "    plt.ylabel(\"Validation Accuracy\")\n",
    "    plt.legend(loc='best')\n",
    "    plt.show()\n",
    "\n",
    "    print(\"Final Training Accuracy: {}\".format(train_acc[-1]))\n",
    "    print(\"Final Validation Accuracy: {}\".format(val_acc[-1]))"
   ]
  },
  {
   "cell_type": "code",
   "execution_count": null,
   "metadata": {},
   "outputs": [],
   "source": [
    "def print_conf_matrix(conf_matrix):\n",
    "    print(\"\\n\\n\")\n",
    "\n",
    "    classes = ['cloudy', 'foggy', 'rain', 'snow', 'sunny']\n",
    "\n",
    "    for i in range(len(classes)):\n",
    "        if i == 0:\n",
    "            print('', end='\\t')\n",
    "\n",
    "        print(classes[i], end = '\\t')\n",
    "\n",
    "    print('\\n')\n",
    "\n",
    "    for i in range(len(classes)):\n",
    "\n",
    "        print(classes[i], end ='\\t')\n",
    "        for j in range(len(classes)):\n",
    "            print(conf_matrix[i][j], end='\\t')\n",
    "        print('\\n')"
   ]
  },
  {
   "cell_type": "code",
   "execution_count": null,
   "metadata": {},
   "outputs": [],
   "source": [
    "def save_anet_feats(sets = [\"train\", \"val\", \"test\"], tlearning=\"anet\"):\n",
    "    root_path = \"weather_dataset/\"\n",
    "    classes = ['cloudy', 'foggy', 'rain', 'snow', 'sunny']\n",
    "    \n",
    "    pretrained_net = \"\"\n",
    "    subpath = \"\"\n",
    "    if tlearning == \"anet\":\n",
    "        print(\"Saving as anet features\")\n",
    "        pretrained_net = torchvision.models.alexnet(pretrained=True)\n",
    "        subpath = \"anet\"\n",
    "    elif tlearning ==\"vgg16\":\n",
    "        print(\"Saving as vgg16 features\")\n",
    "        pretrained_net = torchvision.models.vgg16(pretrained=True)\n",
    "        subpath = \"vgg16\"\n",
    "    else:\n",
    "        assert 0\n",
    "    \n",
    "    data_loader = get_data_loader(batch_size=1, sets=sets)\n",
    "    \n",
    "    for i, data in enumerate(data_loader):\n",
    "        path = \"{}/{}_{}\".format(root_path, subpath,sets[i])\n",
    "        \n",
    "        if not os.path.isdir(path):\n",
    "            os.mkdir(path)\n",
    "            \n",
    "        n = 0\n",
    "        \n",
    "        for images, labels in data:\n",
    "            features = pretrained_net.features(images)\n",
    "            features_tensor = torch.from_numpy(features.detach().numpy())\n",
    "            folder = \"{}/{}/\".format(path, classes[labels])\n",
    "            \n",
    "            if not os.path.isdir(folder):\n",
    "                os.mkdir(folder)\n",
    "                \n",
    "            torch.save(features_tensor.squeeze(0), '{}/{}.tensor'.format(folder, str(n)))\n",
    "            n+=1\n",
    "    \n",
    "    "
   ]
  },
  {
   "cell_type": "markdown",
   "metadata": {},
   "source": [
    "# Running Regular CNN"
   ]
  },
  {
   "cell_type": "code",
   "execution_count": null,
   "metadata": {
    "scrolled": true
   },
   "outputs": [],
   "source": [
    "net = CNN().cuda()\n",
    "iters, train_loss, val_acc, train_acc = train_net(net, num_epochs=30, lr=0.01, batch_size=512, data_set=[\"train\",\"val\"])\n"
   ]
  },
  {
   "cell_type": "code",
   "execution_count": null,
   "metadata": {
    "scrolled": false
   },
   "outputs": [],
   "source": [
    "plot_graphs(iters, train_loss, train_acc, val_acc)\n",
    "print(train_acc[-1])"
   ]
  },
  {
   "cell_type": "code",
   "execution_count": null,
   "metadata": {},
   "outputs": [],
   "source": [
    "data_loader = get_data_loader(batch_size=1, sets=[\"val\"])\n",
    "x, y = get_accuracy(net, data_loader[0], conf_matrix=True)"
   ]
  },
  {
   "cell_type": "code",
   "execution_count": null,
   "metadata": {},
   "outputs": [],
   "source": [
    "print(x)\n",
    "print_conf_matrix(y)"
   ]
  },
  {
   "cell_type": "markdown",
   "metadata": {},
   "source": [
    "# Running AlexNet "
   ]
  },
  {
   "cell_type": "code",
   "execution_count": null,
   "metadata": {},
   "outputs": [],
   "source": [
    "# Can save the alexnet features into your drive to avoid running this again\n",
    "save_anet_feats(sets = [\"train\", \"val\", \"test\"],tlearning=\"anet\") #if using alexnet transfer learning"
   ]
  },
  {
   "cell_type": "code",
   "execution_count": null,
   "metadata": {
    "scrolled": true
   },
   "outputs": [],
   "source": [
    "net = anet_CNN().cuda()\n",
    "iters, train_loss, val_acc, train_acc = train_net(net, num_epochs=100, lr=0.001, batch_size=512, data_set=[\"train\",\"val\"], tlearning=\"anet\")"
   ]
  },
  {
   "cell_type": "code",
   "execution_count": null,
   "metadata": {
    "scrolled": false
   },
   "outputs": [],
   "source": [
    "plot_graphs(iters, train_loss, train_acc, val_acc)\n",
    "print(train_acc[-1])"
   ]
  },
  {
   "cell_type": "code",
   "execution_count": null,
   "metadata": {},
   "outputs": [],
   "source": [
    "val_max_idx = np.argmax(val_acc)\n",
    "print(val_max_idx, train_acc[val_max_idx], val_acc[val_max_idx])\n"
   ]
  },
  {
   "cell_type": "code",
   "execution_count": null,
   "metadata": {
    "scrolled": true
   },
   "outputs": [],
   "source": [
    "data_loader = get_data_loader(batch_size=1, sets=[\"val\"], tlearning=\"anet\")\n",
    "x, y = get_accuracy(net, data_loader[0], conf_matrix=True)"
   ]
  },
  {
   "cell_type": "code",
   "execution_count": null,
   "metadata": {},
   "outputs": [],
   "source": [
    "print(x)\n",
    "print_conf_matrix(y)"
   ]
  },
  {
   "cell_type": "markdown",
   "metadata": {},
   "source": [
    "# Running VGG16-Net"
   ]
  },
  {
   "cell_type": "code",
   "execution_count": null,
   "metadata": {
    "scrolled": true
   },
   "outputs": [],
   "source": [
    "# Can save the vgg16 features into your drive to avoid running this again\n",
    "save_anet_feats(sets = [\"train\", \"val\", \"test\"], tlearning=\"vgg16\")"
   ]
  },
  {
   "cell_type": "code",
   "execution_count": null,
   "metadata": {
    "scrolled": true
   },
   "outputs": [],
   "source": [
    "net = vgg16_CNN().cuda()\n",
    "iters, train_loss, val_acc, train_acc = train_net(net, num_epochs=20, lr=0.015, batch_size=1024, data_set=[\"train\",\"val\"], tlearning=\"vgg16\")"
   ]
  },
  {
   "cell_type": "code",
   "execution_count": null,
   "metadata": {},
   "outputs": [],
   "source": [
    "plot_graphs(iters, train_loss, train_acc, val_acc)\n",
    "print(train_acc[-1])"
   ]
  },
  {
   "cell_type": "code",
   "execution_count": null,
   "metadata": {},
   "outputs": [],
   "source": [
    "val_max_idx = np.argmax(val_acc)\n",
    "print(val_max_idx, train_acc[val_max_idx], val_acc[val_max_idx])"
   ]
  },
  {
   "cell_type": "code",
   "execution_count": null,
   "metadata": {},
   "outputs": [],
   "source": [
    "data_loader = get_data_loader(batch_size=1, sets=[\"val\"], tlearning=\"vgg16\")\n",
    "x, y = get_accuracy(net, data_loader[0], conf_matrix=True)"
   ]
  },
  {
   "cell_type": "code",
   "execution_count": null,
   "metadata": {},
   "outputs": [],
   "source": [
    "print(x)\n",
    "print_conf_matrix(y)"
   ]
  },
  {
   "cell_type": "code",
   "execution_count": null,
   "metadata": {},
   "outputs": [],
   "source": [
    "# model_path = get_model_path(model.name, bs=256, lr=0.001, data_set=\"train\", total_epoch=100, epoch=100,csv=True)\n",
    "# state = torch.load(model_path + \"epoch_100\")\n",
    "# model.load_state_dict(state)\n",
    "\n",
    "# iters = np.loadtxt(open(model_path +\"iters.csv\", \"rb\"), delimiter=\",\")\n",
    "# train_acc = np.loadtxt(open(model_path + \"train_acc.csv\", \"rb\"), delimiter=\",\")\n",
    "# train_loss = np.loadtxt(open(model_path+ \"train_loss.csv\", \"rb\"), delimiter=\",\")\n",
    "# val_acc = np.loadtxt(open(model_path + \"val_acc.csv\", \"rb\"), delimiter=\",\")\n",
    "\n",
    "# plot_graphs(iters, train_loss, train_acc, val_acc)"
   ]
  }
 ],
 "metadata": {
  "kernelspec": {
   "display_name": "Python 3",
   "language": "python",
   "name": "python3"
  },
  "language_info": {
   "codemirror_mode": {
    "name": "ipython",
    "version": 3
   },
   "file_extension": ".py",
   "mimetype": "text/x-python",
   "name": "python",
   "nbconvert_exporter": "python",
   "pygments_lexer": "ipython3",
   "version": "3.6.10"
  }
 },
 "nbformat": 4,
 "nbformat_minor": 4
}
