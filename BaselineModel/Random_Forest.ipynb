{
 "cells": [
  {
   "cell_type": "code",
   "execution_count": null,
   "metadata": {
    "colab": {
     "base_uri": "https://localhost:8080/",
     "height": 34
    },
    "colab_type": "code",
    "id": "wh1INLw9o_y2",
    "outputId": "a32f07ee-3dec-471b-8c8f-cb4000d9f7ab"
   },
   "outputs": [
    {
     "name": "stdout",
     "output_type": "stream",
     "text": [
      "Drive already mounted at /content/drive; to attempt to forcibly remount, call drive.mount(\"/content/drive\", force_remount=True).\n"
     ]
    }
   ],
   "source": [
    "# mount Google Drive\n",
    "# from google.colab import drive\n",
    "# drive.mount('/content/drive')"
   ]
  },
  {
   "cell_type": "code",
   "execution_count": null,
   "metadata": {
    "colab": {
     "base_uri": "https://localhost:8080/",
     "height": 119
    },
    "colab_type": "code",
    "id": "ynV8oY2QpImA",
    "outputId": "8dd0380f-eb34-405e-a3b4-f11c2ca826b6"
   },
   "outputs": [
    {
     "name": "stdout",
     "output_type": "stream",
     "text": [
      "Requirement already satisfied: pyunpack in /usr/local/lib/python3.6/dist-packages (0.2.1)\n",
      "Requirement already satisfied: easyprocess in /usr/local/lib/python3.6/dist-packages (from pyunpack) (0.3)\n",
      "Requirement already satisfied: entrypoint2 in /usr/local/lib/python3.6/dist-packages (from pyunpack) (0.2.1)\n",
      "Requirement already satisfied: argparse in /usr/local/lib/python3.6/dist-packages (from entrypoint2->pyunpack) (1.4.0)\n",
      "Requirement already satisfied: patool in /usr/local/lib/python3.6/dist-packages (1.12)\n",
      "mkdir: cannot create directory ‘/root/datasets’: File exists\n"
     ]
    }
   ],
   "source": [
    "# !pip install pyunpack\n",
    "# !pip install patool\n",
    "# from pyunpack import Archive\n",
    "\n",
    "# !mkdir /root/datasets\n",
    "# Archive('/content/drive/My Drive/Image.rar').extractall('/root/datasets')"
   ]
  },
  {
   "cell_type": "code",
   "execution_count": 1,
   "metadata": {
    "colab": {},
    "colab_type": "code",
    "id": "kTG4-Lx4qofw"
   },
   "outputs": [],
   "source": [
    "import time\n",
    "import os\n",
    "import numpy as np\n",
    "import torch\n",
    "\n",
    "import torchvision\n",
    "from torchvision import datasets, models, transforms\n",
    "import matplotlib.pyplot as plt"
   ]
  },
  {
   "cell_type": "code",
   "execution_count": 2,
   "metadata": {
    "colab": {},
    "colab_type": "code",
    "id": "zDClJCjxqzWQ"
   },
   "outputs": [
    {
     "name": "stdout",
     "output_type": "stream",
     "text": [
      "Dataset ImageFolder\n",
      "    Number of datapoints: 8408\n",
      "    Root location: ./Image\n",
      "    StandardTransform\n",
      "Transform: Compose(\n",
      "               RandomResizedCrop(size=(224, 224), scale=(1, 1), ratio=(0.75, 1.3333), interpolation=PIL.Image.BILINEAR)\n",
      "               ToTensor()\n",
      "           )\n"
     ]
    }
   ],
   "source": [
    "data_dir = './Image'\n",
    "\n",
    "# define the classes\n",
    "classes = ['cloudy', 'foggy', 'rain', 'snow', 'sunny']\n",
    "\n",
    "# transform data to 224x224\n",
    "data_transform = transforms.Compose([transforms.RandomResizedCrop(224, scale=(1, 1)), \n",
    "                                      transforms.ToTensor()])\n",
    "\n",
    "weather_data = datasets.ImageFolder(data_dir, transform=data_transform)\n",
    "print(weather_data)"
   ]
  },
  {
   "cell_type": "code",
   "execution_count": 3,
   "metadata": {
    "colab": {},
    "colab_type": "code",
    "id": "Ba1SwUz0rGhF"
   },
   "outputs": [
    {
     "name": "stdout",
     "output_type": "stream",
     "text": [
      "8408\n"
     ]
    }
   ],
   "source": [
    "# prepare dataloader\n",
    "batch_size  = 8408\n",
    "data_loader = torch.utils.data.DataLoader(weather_data, batch_size=batch_size, shuffle=True)\n",
    "\n",
    "# separate images and labels and convert to numpy\n",
    "dataiter = iter(data_loader)\n",
    "images, labels = dataiter.next()\n",
    "images = images.numpy()\n",
    "labels = labels.numpy()\n",
    "\n",
    "print(len(images))"
   ]
  },
  {
   "cell_type": "code",
   "execution_count": 5,
   "metadata": {
    "colab": {},
    "colab_type": "code",
    "id": "L8FsJpror1Ub"
   },
   "outputs": [],
   "source": [
    "# reshaping X and y to put into classifier\n",
    "from sklearn.utils import shuffle\n",
    "\n",
    "X = images\n",
    "y = labels\n",
    "y = y[:, None]\n",
    "\n",
    "#print(\"Original X shape\", X.shape)\n",
    "#print(\"Original y shape\", y.shape)\n",
    "\n",
    "X = X.reshape(X.shape[1] * X.shape[2] * X.shape[3], X.shape[0]).T\n",
    "#print(\"X reshaped is\", X.shape)\n",
    "y = y.reshape(y.shape[0],)\n",
    "#print(\"y reshaped is\", y.shape)\n",
    "X, y = shuffle(X, y, random_state=50)"
   ]
  },
  {
   "cell_type": "code",
   "execution_count": 8,
   "metadata": {
    "colab": {},
    "colab_type": "code",
    "id": "pNchxsbUsynm"
   },
   "outputs": [],
   "source": [
    "# Random Forest Classifier\n",
    "from sklearn.ensemble import RandomForestClassifier\n",
    "\n",
    "clf = RandomForestClassifier()"
   ]
  },
  {
   "cell_type": "code",
   "execution_count": 9,
   "metadata": {
    "colab": {
     "base_uri": "https://localhost:8080/",
     "height": 153
    },
    "colab_type": "code",
    "id": "JsFpsfwAtAGr",
    "outputId": "a696f921-d69a-4efd-ef50-7e0ff86782d8",
    "scrolled": true
   },
   "outputs": [
    {
     "data": {
      "text/plain": [
       "RandomForestClassifier(bootstrap=True, ccp_alpha=0.0, class_weight=None,\n",
       "                       criterion='gini', max_depth=None, max_features='auto',\n",
       "                       max_leaf_nodes=None, max_samples=None,\n",
       "                       min_impurity_decrease=0.0, min_impurity_split=None,\n",
       "                       min_samples_leaf=1, min_samples_split=2,\n",
       "                       min_weight_fraction_leaf=0.0, n_estimators=100,\n",
       "                       n_jobs=None, oob_score=False, random_state=None,\n",
       "                       verbose=0, warm_start=False)"
      ]
     },
     "execution_count": 9,
     "metadata": {},
     "output_type": "execute_result"
    }
   ],
   "source": [
    "# split into training and testing data\n",
    "from sklearn.model_selection import train_test_split\n",
    "\n",
    "X_train, X_test, y_train, y_test = train_test_split(X, y, test_size=0.2, random_state=50)\n",
    "clf.fit(X_train, y_train)"
   ]
  },
  {
   "cell_type": "code",
   "execution_count": 10,
   "metadata": {
    "colab": {
     "base_uri": "https://localhost:8080/",
     "height": 34
    },
    "colab_type": "code",
    "id": "-oy4YtQSzs1M",
    "outputId": "69131361-9cb5-4fd7-9034-0019daa6e06b"
   },
   "outputs": [
    {
     "name": "stdout",
     "output_type": "stream",
     "text": [
      "Accuracy: 0.21284185493460167\n"
     ]
    }
   ],
   "source": [
    "# getting accuracy\n",
    "from sklearn.metrics import accuracy_score\n",
    "\n",
    "preds = clf.predict(X_test)\n",
    "print(\"Accuracy:\", accuracy_score(y_test,preds))"
   ]
  },
  {
   "cell_type": "code",
   "execution_count": 17,
   "metadata": {},
   "outputs": [
    {
     "name": "stdout",
     "output_type": "stream",
     "text": [
      "[4 2 2 ... 0 4 1]\n",
      "[2 2 3 ... 1 0 2]\n"
     ]
    }
   ],
   "source": [
    "print(preds)\n",
    "print(y_test)"
   ]
  },
  {
   "cell_type": "code",
   "execution_count": null,
   "metadata": {},
   "outputs": [],
   "source": []
  }
 ],
 "metadata": {
  "colab": {
   "name": "Random Forest v2.ipynb",
   "provenance": []
  },
  "kernelspec": {
   "display_name": "Python 3",
   "language": "python",
   "name": "python3"
  },
  "language_info": {
   "codemirror_mode": {
    "name": "ipython",
    "version": 3
   },
   "file_extension": ".py",
   "mimetype": "text/x-python",
   "name": "python",
   "nbconvert_exporter": "python",
   "pygments_lexer": "ipython3",
   "version": "3.6.10"
  }
 },
 "nbformat": 4,
 "nbformat_minor": 1
}
